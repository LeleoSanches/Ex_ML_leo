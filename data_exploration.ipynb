{
 "cells": [
  {
   "cell_type": "markdown",
   "id": "989f4aba-aa13-4ca0-97fc-47845df7df51",
   "metadata": {},
   "source": [
    "# Data Exploration and Data Analysis\n",
    "Notebook para exploração dos dados\n",
    "- - - \n",
    "Leonardo Goshi Sanches\n",
    "- - -\n",
    "## Checklist\n",
    "    - Carregar dados\n",
    "    \n",
    "    - Verificar valores Nulos\n",
    "        \n",
    "    - Verificar tipo dos dados\n",
    "    \n",
    "    - Substituir os valores Nulos\n",
    "    \n",
    "    - Verificar Outliers\n",
    "    \n",
    "    - Verificar Correlações\n",
    "\n",
    "- - -\n",
    "### Bibliotecas"
   ]
  },
  {
   "cell_type": "code",
   "execution_count": 9,
   "id": "c5be2663-2054-4086-9448-b6ebecda047b",
   "metadata": {},
   "outputs": [],
   "source": [
    "import pandas as pd\n",
    "import matplotlib.pyplot as plt\n",
    "import numpy as np\n",
    "import seaborn as sns"
   ]
  },
  {
   "cell_type": "markdown",
   "id": "7816ebbd-ac44-4b5b-9733-73baa6eef7fe",
   "metadata": {},
   "source": [
    "### Load data\n",
    "\n",
    "Faz a leitura dos arquivos csv;\n"
   ]
  },
  {
   "cell_type": "code",
   "execution_count": 2,
   "id": "1656a7d1-d279-4f8a-84d4-9ec6280df806",
   "metadata": {},
   "outputs": [],
   "source": [
    "data_path = \"../data/\"\n",
    "csv_list = [\"X_test.csv\", \"X_train.csv\", \"y_test.csv\", \"y_train.csv\"]\n",
    "\n",
    "\n",
    "x_test = pd.read_csv(data_path+csv_list[0], header=None)\n",
    "x_train = pd.read_csv(data_path+csv_list[1], header=None)\n",
    "y_test = pd.read_csv(data_path + csv_list[2], header=None)\n",
    "y_train = pd.read_csv(data_path + csv_list[3], header=None)"
   ]
  },
  {
   "cell_type": "markdown",
   "id": "76bb65c6-7648-4935-b4e7-61fcf9627d11",
   "metadata": {},
   "source": [
    "### Verificando os dados\n",
    "\n",
    "- Existem dados faltantes?\n",
    "    - Sim, alguns NaN em x_train.\n",
    "- Qual o tipo dos dados?\n",
    "    - Todos float64"
   ]
  },
  {
   "cell_type": "code",
   "execution_count": 3,
   "id": "5ada8fd9-3fb9-4e44-8cfa-a67c1800d49e",
   "metadata": {},
   "outputs": [
    {
     "name": "stdout",
     "output_type": "stream",
     "text": [
      "<class 'pandas.core.frame.DataFrame'>\n",
      "RangeIndex: 150 entries, 0 to 149\n",
      "Data columns (total 10 columns):\n",
      " #   Column  Non-Null Count  Dtype  \n",
      "---  ------  --------------  -----  \n",
      " 0   0       149 non-null    float64\n",
      " 1   1       148 non-null    float64\n",
      " 2   2       148 non-null    float64\n",
      " 3   3       150 non-null    float64\n",
      " 4   4       150 non-null    float64\n",
      " 5   5       150 non-null    float64\n",
      " 6   6       150 non-null    float64\n",
      " 7   7       150 non-null    float64\n",
      " 8   8       150 non-null    float64\n",
      " 9   9       142 non-null    float64\n",
      "dtypes: float64(10)\n",
      "memory usage: 11.8 KB\n",
      "None\n",
      "<class 'pandas.core.frame.DataFrame'>\n",
      "RangeIndex: 50 entries, 0 to 49\n",
      "Data columns (total 10 columns):\n",
      " #   Column  Non-Null Count  Dtype  \n",
      "---  ------  --------------  -----  \n",
      " 0   0       50 non-null     float64\n",
      " 1   1       50 non-null     float64\n",
      " 2   2       50 non-null     float64\n",
      " 3   3       50 non-null     float64\n",
      " 4   4       50 non-null     float64\n",
      " 5   5       50 non-null     float64\n",
      " 6   6       50 non-null     float64\n",
      " 7   7       50 non-null     float64\n",
      " 8   8       50 non-null     float64\n",
      " 9   9       50 non-null     float64\n",
      "dtypes: float64(10)\n",
      "memory usage: 4.0 KB\n",
      "None\n",
      "<class 'pandas.core.frame.DataFrame'>\n",
      "RangeIndex: 150 entries, 0 to 149\n",
      "Data columns (total 1 columns):\n",
      " #   Column  Non-Null Count  Dtype  \n",
      "---  ------  --------------  -----  \n",
      " 0   0       150 non-null    float64\n",
      "dtypes: float64(1)\n",
      "memory usage: 1.3 KB\n",
      "None\n",
      "<class 'pandas.core.frame.DataFrame'>\n",
      "RangeIndex: 50 entries, 0 to 49\n",
      "Data columns (total 1 columns):\n",
      " #   Column  Non-Null Count  Dtype  \n",
      "---  ------  --------------  -----  \n",
      " 0   0       50 non-null     float64\n",
      "dtypes: float64(1)\n",
      "memory usage: 528.0 bytes\n",
      "None\n"
     ]
    }
   ],
   "source": [
    "print(x_train.info())\n",
    "print(x_test.info())\n",
    "print(y_train.info())\n",
    "print(y_test.info())"
   ]
  },
  {
   "cell_type": "markdown",
   "id": "2c5cb4bf-82f0-4c96-af53-1086a33f5547",
   "metadata": {},
   "source": [
    "### Onde estão os NaN?\n",
    "- Encontra os valores NaNs e substitui pela média da coluna"
   ]
  },
  {
   "cell_type": "code",
   "execution_count": 4,
   "id": "0e17a552-de3b-4700-b555-f57cd84d1659",
   "metadata": {},
   "outputs": [
    {
     "name": "stdout",
     "output_type": "stream",
     "text": [
      "            0         1         2         3         4         5         6  \\\n",
      "10  -1.704651       NaN -2.973315  0.033317 -0.248889 -0.450176  0.132428   \n",
      "12  -1.540616  2.046714 -1.396999 -1.097172 -0.238713 -1.429067  0.949005   \n",
      "21   0.527369 -0.374303       NaN -1.429763  0.407707 -0.828280  0.423457   \n",
      "29   1.559315 -1.092689  0.758042 -1.199440  0.176370 -0.875731  0.117608   \n",
      "34   0.539813  0.543173  0.963745  1.253726 -0.220131 -0.252270  0.010037   \n",
      "48  -0.451672 -1.137542 -0.135877  0.634379 -0.013558  0.375897 -0.236582   \n",
      "62  -1.944540       NaN  1.538754  2.397073  1.556208 -0.202683 -0.108906   \n",
      "70   0.567943 -0.101638  0.069251 -1.161602  0.327026  0.567333  0.901592   \n",
      "81   0.321287 -2.437027       NaN -0.642481  0.292833 -0.463981  0.386734   \n",
      "91  -0.453400  0.609100 -0.852249 -0.054550  1.090795 -1.846342 -0.412434   \n",
      "105 -0.173456  0.031924 -0.860370  1.417879 -0.216362 -1.015489 -0.725975   \n",
      "139  1.356979  0.484686 -0.256115  1.354626  2.075951  0.666880 -1.013720   \n",
      "149       NaN  0.655171  0.094512  1.183413 -0.221608 -0.776769  0.056339   \n",
      "\n",
      "            7            8         9  \n",
      "10   0.022214     0.317368 -0.752414  \n",
      "12  -0.019398     0.894598       NaN  \n",
      "21  -0.159517     1.241082  1.663536  \n",
      "29  -0.958168 -1881.114649       NaN  \n",
      "34   0.480288    -1.956968       NaN  \n",
      "48   0.979141     1.093748       NaN  \n",
      "62   1.135202     1.009794 -0.913421  \n",
      "70   1.877143     0.430613       NaN  \n",
      "81   0.672496 -1202.090976 -0.527003  \n",
      "91  -0.415466    -1.301757       NaN  \n",
      "105  1.227705    -1.126485       NaN  \n",
      "139  0.196595     0.210873       NaN  \n",
      "149  0.362473     0.430358  0.061608  \n",
      "Empty DataFrame\n",
      "Columns: [0, 1, 2, 3, 4, 5, 6, 7, 8, 9]\n",
      "Index: []\n"
     ]
    }
   ],
   "source": [
    "print(x_train[x_train.isna().any(axis=1)])\n",
    "#x_train = x_train.fillna(0)\n",
    "\n",
    "for i in range(len(x_train.columns)):\n",
    "    x_train[i] = x_train[i].fillna(x_train[i].mean())\n",
    "\n",
    "print(x_train[x_train.isna().any(axis=1)])"
   ]
  },
  {
   "cell_type": "markdown",
   "id": "f9488738-6901-4509-a3f1-8e1bab444ebd",
   "metadata": {},
   "source": [
    "## Outlier Analysis\n",
    "\n",
    "Existem outliers no dataset?\n",
    ">Sim, nota-se valores bem longe da média em x_train. \n",
    "\n",
    ">Em y_train e y_test não há.\n",
    "- - -\n",
    "    \n",
    "**Método outlier_plot**: Faz o Boxplot dos datasets.\n",
    "\n",
    "- Parâmetros:\n",
    "    \n",
    "    - *data*: dataframe\n",
    "    \n",
    "    - *ax_x, ax_y*: Localização do subplot\n",
    "    \n",
    "    - *is_log_scale*: transforma o eixo X em valores de log.\n",
    "    "
   ]
  },
  {
   "cell_type": "code",
   "execution_count": 5,
   "id": "a64324e1-2b41-4048-83a5-edf51ff14949",
   "metadata": {},
   "outputs": [
    {
     "data": {
      "image/png": "[encoded data removed]",
      "text/plain": [
       "<Figure size 1080x1080 with 4 Axes>"
      ]
     },
     "metadata": {
      "needs_background": "light"
     },
     "output_type": "display_data"
    }
   ],
   "source": [
    "fig, ax = plt.subplots(2,2, figsize=(15,15))\n",
    "fig.subplots_adjust(left = 0.08, right = 0.9, bottom = 0.05, top=0.9)\n",
    "\n",
    "\n",
    "def outlier_plot(data, title:str='', ax_x:int=0, ax_y:int=0, is_log_scale:bool=False):\n",
    "    ax[ax_x, ax_y].boxplot(data, vert=False)\n",
    "    if is_log_scale:\n",
    "        ax[ax_x, ax_y].set_xscale('symlog')\n",
    "    ax[ax_x, ax_y].set_title(title)\n",
    "\n",
    "\n",
    "outlier_plot(x_train, 'x_train', ax_x=0, ax_y=0, is_log_scale=True)\n",
    "outlier_plot(x_test, 'x_test', ax_x=0, ax_y=1, is_log_scale = True)\n",
    "outlier_plot(y_train, 'y_train', ax_x=1, ax_y=0)\n",
    "outlier_plot(y_test, 'y_test', ax_x=1, ax_y=1)\n",
    "plt.show()"
   ]
  },
  {
   "cell_type": "markdown",
   "id": "21dfc746-0df0-49d4-b7e9-9aeed7d6e959",
   "metadata": {},
   "source": [
    "### Localizar e Substituir os Outliers\n",
    "\n",
    "- Procura os valores Maiores que 4 e Menores -4 e substitui pelo valor do quartil 50."
   ]
  },
  {
   "cell_type": "code",
   "execution_count": 6,
   "id": "7402dea3-cf3e-438a-8d22-3891c633e7ed",
   "metadata": {
    "tags": []
   },
   "outputs": [
    {
     "data": {
      "text/html": [
       "<div>\n",
       "<style scoped>\n",
       "    .dataframe tbody tr th:only-of-type {\n",
       "        vertical-align: middle;\n",
       "    }\n",
       "\n",
       "    .dataframe tbody tr th {\n",
       "        vertical-align: top;\n",
       "    }\n",
       "\n",
       "    .dataframe thead th {\n",
       "        text-align: right;\n",
       "    }\n",
       "</style>\n",
       "<table border=\"1\" class=\"dataframe\">\n",
       "  <thead>\n",
       "    <tr style=\"text-align: right;\">\n",
       "      <th></th>\n",
       "      <th>0</th>\n",
       "      <th>1</th>\n",
       "      <th>2</th>\n",
       "      <th>3</th>\n",
       "      <th>4</th>\n",
       "      <th>5</th>\n",
       "      <th>6</th>\n",
       "      <th>7</th>\n",
       "      <th>8</th>\n",
       "      <th>9</th>\n",
       "    </tr>\n",
       "  </thead>\n",
       "  <tbody>\n",
       "    <tr>\n",
       "      <th>count</th>\n",
       "      <td>150.000000</td>\n",
       "      <td>150.000000</td>\n",
       "      <td>150.000000</td>\n",
       "      <td>150.000000</td>\n",
       "      <td>150.000000</td>\n",
       "      <td>150.000000</td>\n",
       "      <td>150.000000</td>\n",
       "      <td>150.000000</td>\n",
       "      <td>150.000000</td>\n",
       "      <td>150.000000</td>\n",
       "    </tr>\n",
       "    <tr>\n",
       "      <th>mean</th>\n",
       "      <td>0.053781</td>\n",
       "      <td>0.028751</td>\n",
       "      <td>0.101332</td>\n",
       "      <td>-0.014209</td>\n",
       "      <td>0.071241</td>\n",
       "      <td>-0.072433</td>\n",
       "      <td>0.038557</td>\n",
       "      <td>0.103699</td>\n",
       "      <td>-0.022972</td>\n",
       "      <td>-0.272984</td>\n",
       "    </tr>\n",
       "    <tr>\n",
       "      <th>std</th>\n",
       "      <td>0.985513</td>\n",
       "      <td>1.054937</td>\n",
       "      <td>1.023854</td>\n",
       "      <td>0.941785</td>\n",
       "      <td>1.103014</td>\n",
       "      <td>0.979966</td>\n",
       "      <td>0.987008</td>\n",
       "      <td>1.046627</td>\n",
       "      <td>1.034223</td>\n",
       "      <td>1.189932</td>\n",
       "    </tr>\n",
       "    <tr>\n",
       "      <th>min</th>\n",
       "      <td>-2.229259</td>\n",
       "      <td>-2.437027</td>\n",
       "      <td>-2.973315</td>\n",
       "      <td>-2.268620</td>\n",
       "      <td>-2.674355</td>\n",
       "      <td>-2.593049</td>\n",
       "      <td>-2.874969</td>\n",
       "      <td>-2.305322</td>\n",
       "      <td>-2.892240</td>\n",
       "      <td>-3.209955</td>\n",
       "    </tr>\n",
       "    <tr>\n",
       "      <th>25%</th>\n",
       "      <td>-0.578574</td>\n",
       "      <td>-0.655137</td>\n",
       "      <td>-0.579357</td>\n",
       "      <td>-0.612612</td>\n",
       "      <td>-0.584675</td>\n",
       "      <td>-0.785925</td>\n",
       "      <td>-0.537900</td>\n",
       "      <td>-0.563654</td>\n",
       "      <td>-0.571572</td>\n",
       "      <td>-1.054253</td>\n",
       "    </tr>\n",
       "    <tr>\n",
       "      <th>50%</th>\n",
       "      <td>0.100712</td>\n",
       "      <td>-0.021766</td>\n",
       "      <td>0.028943</td>\n",
       "      <td>-0.056033</td>\n",
       "      <td>0.036325</td>\n",
       "      <td>-0.162589</td>\n",
       "      <td>-0.065427</td>\n",
       "      <td>0.127817</td>\n",
       "      <td>-0.041774</td>\n",
       "      <td>-0.317120</td>\n",
       "    </tr>\n",
       "    <tr>\n",
       "      <th>75%</th>\n",
       "      <td>0.680711</td>\n",
       "      <td>0.536576</td>\n",
       "      <td>0.757237</td>\n",
       "      <td>0.633470</td>\n",
       "      <td>0.787527</td>\n",
       "      <td>0.617043</td>\n",
       "      <td>0.701296</td>\n",
       "      <td>0.778635</td>\n",
       "      <td>0.591761</td>\n",
       "      <td>0.523952</td>\n",
       "    </tr>\n",
       "    <tr>\n",
       "      <th>max</th>\n",
       "      <td>2.647419</td>\n",
       "      <td>3.465227</td>\n",
       "      <td>3.173391</td>\n",
       "      <td>3.334204</td>\n",
       "      <td>2.809701</td>\n",
       "      <td>2.527071</td>\n",
       "      <td>3.857940</td>\n",
       "      <td>3.075574</td>\n",
       "      <td>2.883969</td>\n",
       "      <td>2.539432</td>\n",
       "    </tr>\n",
       "  </tbody>\n",
       "</table>\n",
       "</div>"
      ],
      "text/plain": [
       "                0           1           2           3           4           5  \\\n",
       "count  150.000000  150.000000  150.000000  150.000000  150.000000  150.000000   \n",
       "mean     0.053781    0.028751    0.101332   -0.014209    0.071241   -0.072433   \n",
       "std      0.985513    1.054937    1.023854    0.941785    1.103014    0.979966   \n",
       "min     -2.229259   -2.437027   -2.973315   -2.268620   -2.674355   -2.593049   \n",
       "25%     -0.578574   -0.655137   -0.579357   -0.612612   -0.584675   -0.785925   \n",
       "50%      0.100712   -0.021766    0.028943   -0.056033    0.036325   -0.162589   \n",
       "75%      0.680711    0.536576    0.757237    0.633470    0.787527    0.617043   \n",
       "max      2.647419    3.465227    3.173391    3.334204    2.809701    2.527071   \n",
       "\n",
       "                6           7           8           9  \n",
       "count  150.000000  150.000000  150.000000  150.000000  \n",
       "mean     0.038557    0.103699   -0.022972   -0.272984  \n",
       "std      0.987008    1.046627    1.034223    1.189932  \n",
       "min     -2.874969   -2.305322   -2.892240   -3.209955  \n",
       "25%     -0.537900   -0.563654   -0.571572   -1.054253  \n",
       "50%     -0.065427    0.127817   -0.041774   -0.317120  \n",
       "75%      0.701296    0.778635    0.591761    0.523952  \n",
       "max      3.857940    3.075574    2.883969    2.539432  "
      ]
     },
     "execution_count": 6,
     "metadata": {},
     "output_type": "execute_result"
    }
   ],
   "source": [
    "#x_train.describe()\n",
    "for i in range(len(x_train.columns)):\n",
    "    x_train[i] = np.where(x_train[i] > 4, x_train[i].quantile(.5), x_train[i])\n",
    "    x_train[i] = np.where(x_train[i] < -4, x_train[i].quantile(.5), x_train[i])\n",
    "x_train.describe()\n"
   ]
  },
  {
   "cell_type": "markdown",
   "id": "402eaca3-76da-4589-b718-4bdc2419ad19",
   "metadata": {},
   "source": [
    "### Correlações\n",
    "\n",
    "- Existem correlações entre as colunas?\n",
    "    > não"
   ]
  },
  {
   "cell_type": "code",
   "execution_count": 16,
   "id": "0f3cf58e-3ace-4fc6-a37f-f2905c4aeae2",
   "metadata": {},
   "outputs": [
    {
     "data": {
      "image/png": "[encoded data removed]",
      "text/plain": [
       "<Figure size 792x648 with 2 Axes>"
      ]
     },
     "metadata": {
      "needs_background": "light"
     },
     "output_type": "display_data"
    }
   ],
   "source": [
    "corr = x_train.corr()\n",
    "mask = np.triu(np.ones_like(corr, dtype=bool))\n",
    "f, ax = plt.subplots(figsize=(11,9))\n",
    "cmap = sns.diverging_palette(230,20,as_cmap=True)\n",
    "sns.heatmap(corr, mask=mask, cmap=cmap, vmax=.3, center = 0, square = True, linewidth=.5, cbar_kws={\"shrink\":.5}, annot=True)\n",
    "ax.set_title(\"Heatmap\")\n",
    "plt.show()"
   ]
  },
  {
   "cell_type": "markdown",
   "id": "d334522b-e031-410d-b138-0dddaa1519d3",
   "metadata": {},
   "source": [
    "### Salvar os datasets"
   ]
  },
  {
   "cell_type": "code",
   "execution_count": 149,
   "id": "e39311b1-61f3-4401-9de7-4be984a4de38",
   "metadata": {},
   "outputs": [],
   "source": [
    "x_train.to_csv(data_path + \"x_train_pos.csv\", index=False)\n",
    "x_test.to_csv(data_path + \"x_test_pos.csv\", index=False)\n",
    "y_train.to_csv(data_path + \"y_train_pos.csv\", index=False)\n",
    "y_test.to_csv(data_path + \"y_test_pos.csv\", index=False)"
   ]
  }
 ],
 "metadata": {
  "kernelspec": {
   "display_name": "Python 3 (ipykernel)",
   "language": "python",
   "name": "python3"
  },
  "language_info": {
   "codemirror_mode": {
    "name": "ipython",
    "version": 3
   },
   "file_extension": ".py",
   "mimetype": "text/x-python",
   "name": "python",
   "nbconvert_exporter": "python",
   "pygments_lexer": "ipython3",
   "version": "3.7.10"
  }
 },
 "nbformat": 4,
 "nbformat_minor": 5
}
